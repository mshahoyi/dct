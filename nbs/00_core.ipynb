{
 "cells": [
  {
   "cell_type": "markdown",
   "metadata": {},
   "source": [
    "# core\n",
    "\n",
    "> Fill in a module description here"
   ]
  },
  {
   "cell_type": "code",
   "execution_count": 6,
   "metadata": {},
   "outputs": [],
   "source": [
    "#| default_exp core"
   ]
  },
  {
   "cell_type": "code",
   "execution_count": 7,
   "metadata": {},
   "outputs": [],
   "source": [
    "#| hide\n",
    "from nbdev.showdoc import *"
   ]
  },
  {
   "cell_type": "markdown",
   "metadata": {},
   "source": [
    "# Prompt"
   ]
  },
  {
   "cell_type": "code",
   "execution_count": 3,
   "metadata": {},
   "outputs": [],
   "source": [
    "#| export\n",
    "def get_prompt(type: str, verbose=False):\n",
    "    import datasets\n",
    "\n",
    "    summeval = datasets.load_dataset(\"mteb/summeval\", split=\"test\")\n",
    "    if verbose:\n",
    "        print(\"Raw features: \", summeval.features)\n",
    "\n",
    "    geval_coh = open(f\"../prompts/{type}_detailed.txt\").read()\n",
    "    if verbose:\n",
    "        print(\"Geval prompt: \", geval_coh)\n",
    "\n",
    "    document = summeval[0]['text']\n",
    "    summary = summeval[0]['machine_summaries'][0]\n",
    "    if verbose:\n",
    "        print(\"Document: \", document)\n",
    "        print(\"Summary: \", summary)\n",
    "\n",
    "    cur_prompt = geval_coh.replace('{{Document}}', document).replace('{{Summary}}', summary)\n",
    "    if verbose:\n",
    "        print(\"Cur prompt: \", cur_prompt)\n",
    "\n",
    "    return cur_prompt"
   ]
  },
  {
   "cell_type": "code",
   "execution_count": 10,
   "metadata": {},
   "outputs": [],
   "source": [
    "#| export\n",
    "def get_prompt_suffix(original_prompt: str, type: str):\n",
    "    if type == \"flu\":\n",
    "        return original_prompt + \"Evaluation Form:\\n- Fluency:\"\n",
    "    elif type == \"coh\":\n",
    "        return original_prompt + \"Evaluation Form:\\n- Coherence (1-5):\"\n",
    "    elif type == \"con\":\n",
    "        return original_prompt + \"Evaluation Form:\\n- Consistency (1-5):\"\n",
    "    elif type == \"ref\":\n",
    "        return original_prompt + \"Evaluation Form:\\n- Reference (1-5):\"\n",
    "    else:\n",
    "        raise ValueError(f\"Invalid type: {type}\")"
   ]
  },
  {
   "cell_type": "markdown",
   "metadata": {},
   "source": [
    "# Save"
   ]
  },
  {
   "cell_type": "code",
   "execution_count": null,
   "metadata": {},
   "outputs": [],
   "source": [
    "#| export\n",
    "def save_vector(vector, model_name, source_layer_idx, target_layer_idx, scale, concept):\n",
    "    import os\n",
    "    import numpy as np\n",
    "    import torch\n",
    "    from pathlib import Path\n",
    "\n"
   ]
  },
  {
   "cell_type": "code",
   "execution_count": 9,
   "metadata": {},
   "outputs": [],
   "source": [
    "#| hide\n",
    "import nbdev; nbdev.nbdev_export()"
   ]
  },
  {
   "cell_type": "code",
   "execution_count": null,
   "metadata": {},
   "outputs": [],
   "source": []
  }
 ],
 "metadata": {
  "kernelspec": {
   "display_name": "Python 3",
   "language": "python",
   "name": "python3"
  },
  "language_info": {
   "codemirror_mode": {
    "name": "ipython",
    "version": 3
   },
   "file_extension": ".py",
   "mimetype": "text/x-python",
   "name": "python",
   "nbconvert_exporter": "python",
   "pygments_lexer": "ipython3",
   "version": "3.11.11"
  }
 },
 "nbformat": 4,
 "nbformat_minor": 4
}
